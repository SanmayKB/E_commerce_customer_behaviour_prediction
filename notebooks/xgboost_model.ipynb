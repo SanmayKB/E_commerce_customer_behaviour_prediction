{
  "cells": [
    {
      "cell_type": "code",
      "execution_count": 1,
      "id": "073cc58c",
      "metadata": {
        "id": "073cc58c"
      },
      "outputs": [],
      "source": [
        "# Import necessary libraries\n",
        "import kagglehub\n",
        "import pandas as pd\n",
        "from sklearn.preprocessing import LabelEncoder, OneHotEncoder\n",
        "from sklearn.model_selection import train_test_split\n",
        "from xgboost import XGBClassifier\n",
        "from sklearn.metrics import accuracy_score, classification_report\n"
      ]
    },
    {
      "cell_type": "code",
      "execution_count": 2,
      "id": "db92b59a",
      "metadata": {
        "colab": {
          "base_uri": "https://localhost:8080/"
        },
        "id": "db92b59a",
        "outputId": "43086623-3dcb-4e27-c55e-d5b3a7f57f43"
      },
      "outputs": [
        {
          "output_type": "stream",
          "name": "stdout",
          "text": [
            "Downloading from https://www.kaggle.com/api/v1/datasets/download/shriyashjagtap/e-commerce-customer-for-behavior-analysis?dataset_version_number=4...\n"
          ]
        },
        {
          "output_type": "stream",
          "name": "stderr",
          "text": [
            "100%|██████████| 9.94M/9.94M [00:00<00:00, 26.3MB/s]"
          ]
        },
        {
          "output_type": "stream",
          "name": "stdout",
          "text": [
            "Extracting files...\n"
          ]
        },
        {
          "output_type": "stream",
          "name": "stderr",
          "text": [
            "\n"
          ]
        },
        {
          "output_type": "stream",
          "name": "stdout",
          "text": [
            "Path to dataset files: /root/.cache/kagglehub/datasets/shriyashjagtap/e-commerce-customer-for-behavior-analysis/versions/4\n",
            "   Customer ID        Purchase Date Product Category  Product Price  Quantity  \\\n",
            "0        46251  2020-09-08 09:38:32      Electronics             12         3   \n",
            "1        46251  2022-03-05 12:56:35             Home            468         4   \n",
            "2        46251  2022-05-23 18:18:01             Home            288         2   \n",
            "3        46251  2020-11-12 13:13:29         Clothing            196         1   \n",
            "4        13593  2020-11-27 17:55:11             Home            449         1   \n",
            "\n",
            "   Total Purchase Amount Payment Method  Customer Age  Returns  \\\n",
            "0                    740    Credit Card            37      0.0   \n",
            "1                   2739         PayPal            37      0.0   \n",
            "2                   3196         PayPal            37      0.0   \n",
            "3                   3509         PayPal            37      0.0   \n",
            "4                   3452    Credit Card            49      0.0   \n",
            "\n",
            "         Customer Name  Age  Gender  Churn  \n",
            "0  Christine Hernandez   37    Male      0  \n",
            "1  Christine Hernandez   37    Male      0  \n",
            "2  Christine Hernandez   37    Male      0  \n",
            "3  Christine Hernandez   37    Male      0  \n",
            "4          James Grant   49  Female      1  \n"
          ]
        }
      ],
      "source": [
        "# Download latest version\n",
        "path = kagglehub.dataset_download(\"shriyashjagtap/e-commerce-customer-for-behavior-analysis\")\n",
        "print(\"Path to dataset files:\", path)\n",
        "\n",
        "df = pd.read_csv(path + \"/ecommerce_customer_data_custom_ratios.csv\")\n",
        "print(df.head())"
      ]
    },
    {
      "cell_type": "code",
      "execution_count": 3,
      "id": "8628ad30",
      "metadata": {
        "id": "8628ad30"
      },
      "outputs": [],
      "source": [
        "# Drop unnecessary columns\n",
        "features_to_remove = [\"Customer ID\", \"Purchase Date\", \"Product Price\", \"Total Purchase Amount\", \"Customer Name\", \"Age\"]\n",
        "df = df.drop(columns=features_to_remove, errors=\"ignore\")"
      ]
    },
    {
      "cell_type": "code",
      "execution_count": 4,
      "id": "a85f17f2",
      "metadata": {
        "id": "a85f17f2"
      },
      "outputs": [],
      "source": [
        "# Encode categorical variables\n",
        "le = LabelEncoder()\n",
        "df[\"Gender\"] = le.fit_transform(df[\"Gender\"])\n",
        "\n",
        "oheProduct = OneHotEncoder(sparse_output=False)\n",
        "ohePayment = OneHotEncoder(sparse_output=False)\n",
        "\n",
        "productCategoryEncoded = oheProduct.fit_transform(df[[\"Product Category\"]])\n",
        "paymentEncoded = ohePayment.fit_transform(df[[\"Payment Method\"]])\n",
        "\n",
        "productCatdf = pd.DataFrame(productCategoryEncoded, columns=oheProduct.get_feature_names_out([\"Product Category\"]))\n",
        "paymentdf = pd.DataFrame(paymentEncoded, columns=ohePayment.get_feature_names_out([\"Payment Method\"]))\n",
        "\n",
        "df = df.drop(columns=[\"Product Category\", \"Payment Method\"])\n",
        "df = pd.concat([df, productCatdf, paymentdf], axis=1)"
      ]
    },
    {
      "cell_type": "code",
      "execution_count": 5,
      "id": "8ee01dc4",
      "metadata": {
        "id": "8ee01dc4"
      },
      "outputs": [],
      "source": [
        "# Handle missing values\n",
        "df[\"Returns\"] = df[\"Returns\"].fillna(0)"
      ]
    },
    {
      "cell_type": "code",
      "execution_count": 8,
      "id": "2e93a0cc",
      "metadata": {
        "id": "2e93a0cc"
      },
      "outputs": [],
      "source": [
        "# Prepare dataset for XGBoost\n",
        "X = df.drop(columns=[\"Churn\"])\n",
        "y = df[\"Churn\"]\n",
        "X_train, X_test, y_train, y_test = train_test_split(X, y, test_size=0.2, random_state=42)"
      ]
    },
    {
      "cell_type": "code",
      "execution_count": 9,
      "id": "cac6c6c3",
      "metadata": {
        "colab": {
          "base_uri": "https://localhost:8080/"
        },
        "id": "cac6c6c3",
        "outputId": "59c175b8-b45e-4add-d887-0b2553088178"
      },
      "outputs": [
        {
          "output_type": "stream",
          "name": "stderr",
          "text": [
            "/usr/local/lib/python3.11/dist-packages/xgboost/core.py:158: UserWarning: [03:11:13] WARNING: /workspace/src/learner.cc:740: \n",
            "Parameters: { \"use_label_encoder\" } are not used.\n",
            "\n",
            "  warnings.warn(smsg, UserWarning)\n"
          ]
        }
      ],
      "source": [
        "# Train XGBoost model\n",
        "model = XGBClassifier(n_estimators=100, learning_rate=0.1, random_state=42, use_label_encoder=False, eval_metric='logloss')\n",
        "model.fit(X_train, y_train)\n",
        "y_pred = model.predict(X_test)"
      ]
    },
    {
      "cell_type": "code",
      "execution_count": 10,
      "id": "a9bc38ab",
      "metadata": {
        "colab": {
          "base_uri": "https://localhost:8080/"
        },
        "id": "a9bc38ab",
        "outputId": "0c46a7cb-abf2-4ef2-be03-fb41f66e3140"
      },
      "outputs": [
        {
          "output_type": "stream",
          "name": "stdout",
          "text": [
            "Model Accuracy: 0.8003\n",
            "Classification Report:\n",
            "               precision    recall  f1-score   support\n",
            "\n",
            "           0       0.80      1.00      0.89     40016\n",
            "           1       0.00      0.00      0.00      9984\n",
            "\n",
            "    accuracy                           0.80     50000\n",
            "   macro avg       0.40      0.50      0.44     50000\n",
            "weighted avg       0.64      0.80      0.71     50000\n",
            "\n"
          ]
        },
        {
          "output_type": "stream",
          "name": "stderr",
          "text": [
            "/usr/local/lib/python3.11/dist-packages/sklearn/metrics/_classification.py:1565: UndefinedMetricWarning: Precision is ill-defined and being set to 0.0 in labels with no predicted samples. Use `zero_division` parameter to control this behavior.\n",
            "  _warn_prf(average, modifier, f\"{metric.capitalize()} is\", len(result))\n",
            "/usr/local/lib/python3.11/dist-packages/sklearn/metrics/_classification.py:1565: UndefinedMetricWarning: Precision is ill-defined and being set to 0.0 in labels with no predicted samples. Use `zero_division` parameter to control this behavior.\n",
            "  _warn_prf(average, modifier, f\"{metric.capitalize()} is\", len(result))\n",
            "/usr/local/lib/python3.11/dist-packages/sklearn/metrics/_classification.py:1565: UndefinedMetricWarning: Precision is ill-defined and being set to 0.0 in labels with no predicted samples. Use `zero_division` parameter to control this behavior.\n",
            "  _warn_prf(average, modifier, f\"{metric.capitalize()} is\", len(result))\n"
          ]
        }
      ],
      "source": [
        "# Evaluate model\n",
        "accuracy = accuracy_score(y_test, y_pred)\n",
        "print(f\"Model Accuracy: {accuracy:.4f}\")\n",
        "print(\"Classification Report:\\n\", classification_report(y_test, y_pred))"
      ]
    },
    {
      "cell_type": "code",
      "source": [
        "import joblib\n",
        "from google.colab import files\n",
        "\n",
        "joblib.dump(model, \"xgboost_model.pkl\")\n",
        "files.download(\"xgboost_model.pkl\")"
      ],
      "metadata": {
        "colab": {
          "base_uri": "https://localhost:8080/",
          "height": 17
        },
        "id": "YY1KKUt2B_pu",
        "outputId": "00c05b03-1e1d-47d6-9ec8-0364ac5f1e2d"
      },
      "id": "YY1KKUt2B_pu",
      "execution_count": 11,
      "outputs": [
        {
          "output_type": "display_data",
          "data": {
            "text/plain": [
              "<IPython.core.display.Javascript object>"
            ],
            "application/javascript": [
              "\n",
              "    async function download(id, filename, size) {\n",
              "      if (!google.colab.kernel.accessAllowed) {\n",
              "        return;\n",
              "      }\n",
              "      const div = document.createElement('div');\n",
              "      const label = document.createElement('label');\n",
              "      label.textContent = `Downloading \"${filename}\": `;\n",
              "      div.appendChild(label);\n",
              "      const progress = document.createElement('progress');\n",
              "      progress.max = size;\n",
              "      div.appendChild(progress);\n",
              "      document.body.appendChild(div);\n",
              "\n",
              "      const buffers = [];\n",
              "      let downloaded = 0;\n",
              "\n",
              "      const channel = await google.colab.kernel.comms.open(id);\n",
              "      // Send a message to notify the kernel that we're ready.\n",
              "      channel.send({})\n",
              "\n",
              "      for await (const message of channel.messages) {\n",
              "        // Send a message to notify the kernel that we're ready.\n",
              "        channel.send({})\n",
              "        if (message.buffers) {\n",
              "          for (const buffer of message.buffers) {\n",
              "            buffers.push(buffer);\n",
              "            downloaded += buffer.byteLength;\n",
              "            progress.value = downloaded;\n",
              "          }\n",
              "        }\n",
              "      }\n",
              "      const blob = new Blob(buffers, {type: 'application/binary'});\n",
              "      const a = document.createElement('a');\n",
              "      a.href = window.URL.createObjectURL(blob);\n",
              "      a.download = filename;\n",
              "      div.appendChild(a);\n",
              "      a.click();\n",
              "      div.remove();\n",
              "    }\n",
              "  "
            ]
          },
          "metadata": {}
        },
        {
          "output_type": "display_data",
          "data": {
            "text/plain": [
              "<IPython.core.display.Javascript object>"
            ],
            "application/javascript": [
              "download(\"download_9c21b1f1-2dc2-462e-837b-06439f505856\", \"xgboost_model.pkl\", 501275)"
            ]
          },
          "metadata": {}
        }
      ]
    }
  ],
  "metadata": {
    "colab": {
      "provenance": []
    },
    "language_info": {
      "name": "python"
    },
    "kernelspec": {
      "name": "python3",
      "display_name": "Python 3"
    }
  },
  "nbformat": 4,
  "nbformat_minor": 5
}