{
  "nbformat": 4,
  "nbformat_minor": 0,
  "metadata": {
    "colab": {
      "provenance": []
    },
    "kernelspec": {
      "name": "python3",
      "display_name": "Python 3"
    },
    "language_info": {
      "name": "python"
    }
  },
  "cells": [
    {
      "cell_type": "code",
      "execution_count": 19,
      "metadata": {
        "colab": {
          "base_uri": "https://localhost:8080/"
        },
        "id": "mdNFNfbbsyb8",
        "outputId": "8b83ece3-bc2f-4c35-d12e-573889e6ef4a"
      },
      "outputs": [
        {
          "output_type": "stream",
          "name": "stdout",
          "text": [
            "Path to dataset files: /root/.cache/kagglehub/datasets/shriyashjagtap/e-commerce-customer-for-behavior-analysis/versions/4\n",
            "   Customer ID        Purchase Date Product Category  Product Price  Quantity  \\\n",
            "0        46251  2020-09-08 09:38:32      Electronics             12         3   \n",
            "1        46251  2022-03-05 12:56:35             Home            468         4   \n",
            "2        46251  2022-05-23 18:18:01             Home            288         2   \n",
            "3        46251  2020-11-12 13:13:29         Clothing            196         1   \n",
            "4        13593  2020-11-27 17:55:11             Home            449         1   \n",
            "\n",
            "   Total Purchase Amount Payment Method  Customer Age  Returns  \\\n",
            "0                    740    Credit Card            37      0.0   \n",
            "1                   2739         PayPal            37      0.0   \n",
            "2                   3196         PayPal            37      0.0   \n",
            "3                   3509         PayPal            37      0.0   \n",
            "4                   3452    Credit Card            49      0.0   \n",
            "\n",
            "         Customer Name  Age  Gender  Churn  \n",
            "0  Christine Hernandez   37    Male      0  \n",
            "1  Christine Hernandez   37    Male      0  \n",
            "2  Christine Hernandez   37    Male      0  \n",
            "3  Christine Hernandez   37    Male      0  \n",
            "4          James Grant   49  Female      1  \n"
          ]
        }
      ],
      "source": [
        "import kagglehub\n",
        "import pandas as pd\n",
        "\n",
        "# Download latest version\n",
        "path = kagglehub.dataset_download(\"shriyashjagtap/e-commerce-customer-for-behavior-analysis\")\n",
        "\n",
        "print(\"Path to dataset files:\", path)\n",
        "df = pd.read_csv(path + \"/ecommerce_customer_data_custom_ratios.csv\")\n",
        "print(df.head())"
      ]
    },
    {
      "cell_type": "code",
      "source": [
        "features_to_remove = [\"Customer ID\", \"Purchase Date\", \"Product Price\", \"Total Purchase Amount\",\"Customer Name\", \"Age\"]\n",
        "df = df.drop(columns=features_to_remove, errors=\"ignore\")\n",
        "\n",
        "\n"
      ],
      "metadata": {
        "id": "WPlGWV7RtBUq"
      },
      "execution_count": 20,
      "outputs": []
    },
    {
      "cell_type": "code",
      "source": [
        "print(df.head())"
      ],
      "metadata": {
        "colab": {
          "base_uri": "https://localhost:8080/"
        },
        "id": "I9RtcpjRuW0d",
        "outputId": "a5ce9056-d145-43d6-f00e-d98aa984a4c7"
      },
      "execution_count": 21,
      "outputs": [
        {
          "output_type": "stream",
          "name": "stdout",
          "text": [
            "  Product Category  Quantity Payment Method  Customer Age  Returns  Gender  \\\n",
            "0      Electronics         3    Credit Card            37      0.0    Male   \n",
            "1             Home         4         PayPal            37      0.0    Male   \n",
            "2             Home         2         PayPal            37      0.0    Male   \n",
            "3         Clothing         1         PayPal            37      0.0    Male   \n",
            "4             Home         1    Credit Card            49      0.0  Female   \n",
            "\n",
            "   Churn  \n",
            "0      0  \n",
            "1      0  \n",
            "2      0  \n",
            "3      0  \n",
            "4      1  \n"
          ]
        }
      ]
    },
    {
      "cell_type": "code",
      "source": [
        "from sklearn.preprocessing import LabelEncoder, OneHotEncoder\n",
        "le = LabelEncoder()\n",
        "df[\"Gender\"] = le.fit_transform(df[\"Gender\"])\n",
        "\n",
        "\n",
        "oheProduct = OneHotEncoder(sparse_output = False)\n",
        "ohePayment = OneHotEncoder(sparse_output = False)\n",
        "\n",
        "productCategoryEncoded = oheProduct.fit_transform(df[[\"Product Category\"]])\n",
        "paymentEncoded = ohePayment.fit_transform(df[[\"Payment Method\"]])\n",
        "\n",
        "productCatdf = pd.DataFrame(productCategoryEncoded, columns=oheProduct.get_feature_names_out([\"Product Category\"]))\n",
        "paymentdf = pd.DataFrame(paymentEncoded, columns=ohePayment.get_feature_names_out([\"Payment Method\"]))\n",
        "\n",
        "\n"
      ],
      "metadata": {
        "id": "q8XRIZa6uoNe"
      },
      "execution_count": 22,
      "outputs": []
    },
    {
      "cell_type": "code",
      "source": [
        "df= df.drop(columns = [\"Product Category\", \"Payment Method\"])\n",
        "df = pd.concat([df,productCatdf, paymentdf], axis = 1)"
      ],
      "metadata": {
        "id": "NK-Gm0SF_hpp"
      },
      "execution_count": 24,
      "outputs": []
    },
    {
      "cell_type": "code",
      "source": [
        "print(df)"
      ],
      "metadata": {
        "colab": {
          "base_uri": "https://localhost:8080/"
        },
        "id": "hGInKVeEvxqy",
        "outputId": "4802cdae-bcf0-47b7-ffae-0bbfa3ddd7e9"
      },
      "execution_count": 25,
      "outputs": [
        {
          "output_type": "stream",
          "name": "stdout",
          "text": [
            "        Quantity  Customer Age  Returns  Gender  Churn  \\\n",
            "0              3            37      0.0       1      0   \n",
            "1              4            37      0.0       1      0   \n",
            "2              2            37      0.0       1      0   \n",
            "3              1            37      0.0       1      0   \n",
            "4              1            49      0.0       0      1   \n",
            "...          ...           ...      ...     ...    ...   \n",
            "249995         2            55      1.0       1      1   \n",
            "249996         1            42      1.0       0      1   \n",
            "249997         5            41      0.0       1      0   \n",
            "249998         2            34      0.0       0      1   \n",
            "249999         4            36      1.0       0      1   \n",
            "\n",
            "        Product Category_Books  Product Category_Clothing  \\\n",
            "0                          0.0                        0.0   \n",
            "1                          0.0                        0.0   \n",
            "2                          0.0                        0.0   \n",
            "3                          0.0                        1.0   \n",
            "4                          0.0                        0.0   \n",
            "...                        ...                        ...   \n",
            "249995                     0.0                        1.0   \n",
            "249996                     0.0                        0.0   \n",
            "249997                     0.0                        0.0   \n",
            "249998                     1.0                        0.0   \n",
            "249999                     0.0                        0.0   \n",
            "\n",
            "        Product Category_Electronics  Product Category_Home  \\\n",
            "0                                1.0                    0.0   \n",
            "1                                0.0                    1.0   \n",
            "2                                0.0                    1.0   \n",
            "3                                0.0                    0.0   \n",
            "4                                0.0                    1.0   \n",
            "...                              ...                    ...   \n",
            "249995                           0.0                    0.0   \n",
            "249996                           0.0                    1.0   \n",
            "249997                           0.0                    1.0   \n",
            "249998                           0.0                    0.0   \n",
            "249999                           1.0                    0.0   \n",
            "\n",
            "        Payment Method_Cash  Payment Method_Credit Card  \\\n",
            "0                       0.0                         1.0   \n",
            "1                       0.0                         0.0   \n",
            "2                       0.0                         0.0   \n",
            "3                       0.0                         0.0   \n",
            "4                       0.0                         1.0   \n",
            "...                     ...                         ...   \n",
            "249995                  0.0                         0.0   \n",
            "249996                  0.0                         1.0   \n",
            "249997                  1.0                         0.0   \n",
            "249998                  0.0                         0.0   \n",
            "249999                  1.0                         0.0   \n",
            "\n",
            "        Payment Method_Crypto  Payment Method_PayPal  \n",
            "0                         0.0                    0.0  \n",
            "1                         0.0                    1.0  \n",
            "2                         0.0                    1.0  \n",
            "3                         0.0                    1.0  \n",
            "4                         0.0                    0.0  \n",
            "...                       ...                    ...  \n",
            "249995                    0.0                    1.0  \n",
            "249996                    0.0                    0.0  \n",
            "249997                    0.0                    0.0  \n",
            "249998                    1.0                    0.0  \n",
            "249999                    0.0                    0.0  \n",
            "\n",
            "[250000 rows x 13 columns]\n"
          ]
        }
      ]
    },
    {
      "cell_type": "code",
      "source": [
        "df[\"Returns\"] = df[\"Returns\"].fillna(0)\n"
      ],
      "metadata": {
        "id": "loW-tLykwtTy"
      },
      "execution_count": 26,
      "outputs": []
    },
    {
      "cell_type": "code",
      "source": [
        "from sklearn.model_selection import train_test_split\n",
        "from sklearn.ensemble import RandomForestClassifier\n",
        "from sklearn.metrics import accuracy_score, classification_report\n",
        "\n",
        "\n",
        "x = df.drop(columns=[\"Churn\"])\n",
        "y = df[\"Churn\"]\n",
        "\n",
        "xTrain, xTest, yTrain, yTest = train_test_split(x, y,test_size = 0.2, random_state = 42)\n",
        "\n",
        "#print(xTrain.shape)\n"
      ],
      "metadata": {
        "id": "AWYzyo3Vw66e"
      },
      "execution_count": 27,
      "outputs": []
    },
    {
      "cell_type": "code",
      "source": [
        "model = RandomForestClassifier(n_estimators=100, random_state=42)\n",
        "model.fit(xTrain, yTrain)\n",
        "yPred = model.predict(xTest)\n",
        "\n",
        "accuracy = accuracy_score(yTest, yPred)\n",
        "print(f\"Model Accuracy: {accuracy:.4f}\")\n",
        "\n",
        "# Print detailed classification report\n",
        "print(\"Classification Report:\\n\", classification_report(yTest, yPred))"
      ],
      "metadata": {
        "colab": {
          "base_uri": "https://localhost:8080/"
        },
        "id": "9WuoW-EWxf9u",
        "outputId": "52d10518-a397-4595-95c5-38e515274841"
      },
      "execution_count": 28,
      "outputs": [
        {
          "output_type": "stream",
          "name": "stdout",
          "text": [
            "Model Accuracy: 0.7905\n",
            "Classification Report:\n",
            "               precision    recall  f1-score   support\n",
            "\n",
            "           0       0.80      0.98      0.88     40016\n",
            "           1       0.21      0.02      0.03      9984\n",
            "\n",
            "    accuracy                           0.79     50000\n",
            "   macro avg       0.51      0.50      0.46     50000\n",
            "weighted avg       0.68      0.79      0.71     50000\n",
            "\n"
          ]
        }
      ]
    },
    {
      "cell_type": "code",
      "source": [
        "print(xTrain.columns)"
      ],
      "metadata": {
        "colab": {
          "base_uri": "https://localhost:8080/"
        },
        "id": "FNxGEwoi8c6t",
        "outputId": "c77b1a0b-16d2-4b0f-bf69-d9b94cfb49ab"
      },
      "execution_count": 10,
      "outputs": [
        {
          "output_type": "stream",
          "name": "stdout",
          "text": [
            "Index(['Quantity', 'Customer Age', 'Returns', 'Gender',\n",
            "       'Product Category_Books', 'Product Category_Clothing',\n",
            "       'Product Category_Electronics', 'Product Category_Home',\n",
            "       'Payment Method_Cash', 'Payment Method_Credit Card',\n",
            "       'Payment Method_Crypto', 'Payment Method_PayPal'],\n",
            "      dtype='object')\n"
          ]
        }
      ]
    },
    {
      "cell_type": "code",
      "source": [
        "import joblib\n",
        "from google.colab import files\n",
        "\n",
        "joblib.dump(model, \"random_forest_model.pkl\")\n",
        "files.download(\"random_forest_model.pkl\")"
      ],
      "metadata": {
        "colab": {
          "base_uri": "https://localhost:8080/",
          "height": 34
        },
        "id": "5wshYY76MxrT",
        "outputId": "a6f02c90-0022-4714-bcc8-2ea02981c96b"
      },
      "execution_count": 29,
      "outputs": [
        {
          "output_type": "display_data",
          "data": {
            "text/plain": [
              "<IPython.core.display.Javascript object>"
            ],
            "application/javascript": [
              "\n",
              "    async function download(id, filename, size) {\n",
              "      if (!google.colab.kernel.accessAllowed) {\n",
              "        return;\n",
              "      }\n",
              "      const div = document.createElement('div');\n",
              "      const label = document.createElement('label');\n",
              "      label.textContent = `Downloading \"${filename}\": `;\n",
              "      div.appendChild(label);\n",
              "      const progress = document.createElement('progress');\n",
              "      progress.max = size;\n",
              "      div.appendChild(progress);\n",
              "      document.body.appendChild(div);\n",
              "\n",
              "      const buffers = [];\n",
              "      let downloaded = 0;\n",
              "\n",
              "      const channel = await google.colab.kernel.comms.open(id);\n",
              "      // Send a message to notify the kernel that we're ready.\n",
              "      channel.send({})\n",
              "\n",
              "      for await (const message of channel.messages) {\n",
              "        // Send a message to notify the kernel that we're ready.\n",
              "        channel.send({})\n",
              "        if (message.buffers) {\n",
              "          for (const buffer of message.buffers) {\n",
              "            buffers.push(buffer);\n",
              "            downloaded += buffer.byteLength;\n",
              "            progress.value = downloaded;\n",
              "          }\n",
              "        }\n",
              "      }\n",
              "      const blob = new Blob(buffers, {type: 'application/binary'});\n",
              "      const a = document.createElement('a');\n",
              "      a.href = window.URL.createObjectURL(blob);\n",
              "      a.download = filename;\n",
              "      div.appendChild(a);\n",
              "      a.click();\n",
              "      div.remove();\n",
              "    }\n",
              "  "
            ]
          },
          "metadata": {}
        },
        {
          "output_type": "display_data",
          "data": {
            "text/plain": [
              "<IPython.core.display.Javascript object>"
            ],
            "application/javascript": [
              "download(\"download_d6ea1368-aea1-4bbc-86d1-58b6b9315d25\", \"random_forest_model.pkl\", 239421257)"
            ]
          },
          "metadata": {}
        }
      ]
    }
  ]
}